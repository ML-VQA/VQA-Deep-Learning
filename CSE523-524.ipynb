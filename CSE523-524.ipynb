{
 "cells": [
  {
   "cell_type": "code",
   "execution_count": 88,
   "metadata": {
    "collapsed": true
   },
   "outputs": [],
   "source": [
    "import pandas as pd\n",
    "import numpy as np\n",
    "import matplotlib.pyplot as plt\n",
    "import sklearn as sk\n",
    "from sklearn import linear_model\n",
    "from sklearn import preprocessing\n",
    "from sklearn.metrics import mean_squared_error, r2_score\n",
    "from sklearn.model_selection import train_test_split\n",
    "from sklearn.metrics import confusion_matrix\n",
    "from sklearn.tree import DecisionTreeClassifier\n",
    "from sklearn.svm import SVC\n",
    "from sklearn.neighbors import KNeighborsClassifier\n",
    "from sklearn.naive_bayes import GaussianNB"
   ]
  },
  {
   "cell_type": "code",
   "execution_count": 24,
   "metadata": {},
   "outputs": [],
   "source": [
    "df = pd.read_table('~/Downloads/CSE523-524/data.txt', delim_whitespace=True, dtype = {'BitRate': np.float64, 'FreezeRatio': np.float64, 'Quality': np.int32})"
   ]
  },
  {
   "cell_type": "code",
   "execution_count": 39,
   "metadata": {},
   "outputs": [],
   "source": [
    "df = df[df['BitRate'] > 0.00001]"
   ]
  },
  {
   "cell_type": "code",
   "execution_count": 97,
   "metadata": {},
   "outputs": [
    {
     "data": {
      "image/png": "[encoded data removed]",
      "text/plain": [
       "<matplotlib.figure.Figure at 0x7f75bebd3860>"
      ]
     },
     "metadata": {},
     "output_type": "display_data"
    }
   ],
   "source": [
    "plt.hist(df['BitRate'], bins = [5*x for x in range(14)],facecolor='blue', edgecolor = 'black')\n",
    "plt.xlabel('Bit rate')\n",
    "plt.ylabel('Count')\n",
    "plt.show()"
   ]
  },
  {
   "cell_type": "code",
   "execution_count": 100,
   "metadata": {},
   "outputs": [
    {
     "data": {
      "image/png": "[encoded data removed]",
      "text/plain": [
       "<matplotlib.figure.Figure at 0x7f75be8c5a20>"
      ]
     },
     "metadata": {},
     "output_type": "display_data"
    }
   ],
   "source": [
    "plt.hist(df['FreezeRatio'], bins = [0.05*x for x in range(21)],facecolor='blue', edgecolor = 'black')\n",
    "plt.xlabel('Freeze ratio')\n",
    "plt.ylabel('Count')\n",
    "plt.show()"
   ]
  },
  {
   "cell_type": "code",
   "execution_count": 47,
   "metadata": {},
   "outputs": [],
   "source": [
    "# Train_test split and scaling\n",
    "\n",
    "X_train, X_test, y_train, y_test = train_test_split(df[['BitRate', 'FreezeRatio']], df['Quality'], test_size = 0.25, random_state = 1)\n",
    "scaler = preprocessing.StandardScaler().fit(X_train)\n",
    "X_train = scaler.transform(X_train)\n",
    "X_test = scaler.transform(X_test)"
   ]
  },
  {
   "cell_type": "code",
   "execution_count": 74,
   "metadata": {},
   "outputs": [
    {
     "data": {
      "text/plain": [
       "array([0, 0, 0, 0, 1, 2, 2, 2, 2, 0, 2, 0, 0, 2, 0, 2, 2, 2, 2, 1, 0, 2, 0,\n",
       "       0, 2, 0, 2, 2, 2, 1, 2, 0, 1, 0, 0, 2, 0, 0, 0, 0, 2, 1, 2, 0, 2, 0,\n",
       "       2, 1, 2, 2, 2, 2, 2, 0, 2, 2, 2, 0, 2, 2, 0, 2, 2, 0, 0, 2, 2, 2, 2,\n",
       "       1, 1, 2, 2, 0, 2, 2, 0, 2, 1, 1, 0, 2, 0, 0, 1, 2], dtype=int32)"
      ]
     },
     "execution_count": 74,
     "metadata": {},
     "output_type": "execute_result"
    }
   ],
   "source": [
    "# Decision tree classifier\n",
    "depth = 2\n",
    "dt = DecisionTreeClassifier(max_depth = depth)\n",
    "dt_pred = dt.fit(X_train, y_train).predict(X_test)\n",
    "dt_pred"
   ]
  },
  {
   "cell_type": "code",
   "execution_count": 75,
   "metadata": {},
   "outputs": [
    {
     "data": {
      "text/plain": [
       "array([[24,  0,  2],\n",
       "       [ 6,  8, 12],\n",
       "       [ 1,  3, 30]])"
      ]
     },
     "execution_count": 75,
     "metadata": {},
     "output_type": "execute_result"
    }
   ],
   "source": [
    "cm_dt = confusion_matrix(y_test, dtree_predictions)\n",
    "cm_dt"
   ]
  },
  {
   "cell_type": "code",
   "execution_count": 84,
   "metadata": {},
   "outputs": [],
   "source": [
    "# SVM classfier\n",
    "params = [1, 0.1, 0.01]\n",
    "kernels = ['linear', 'poly']\n",
    "accuracies_svm = {}\n",
    "cm_svm = {}\n",
    "for k in kernels:\n",
    "    accuracies_svm[k] = {}\n",
    "    cm_svm[k] = {}\n",
    "    for x in params: \n",
    "        sv = SVC(kernel = k, C = x)\n",
    "        svm_linear = sv.fit(X_train, y_train)\n",
    "        svm_pred = sv.fit(X_train, y_train).predict(X_test)\n",
    "        accuracies_svm[k]['C = {}'.format(x)] = svm_linear.score(X_test, y_test)\n",
    "        cm_svm[k]['C = {}'.format(x)] = confusion_matrix(y_test, svm_pred)"
   ]
  },
  {
   "cell_type": "code",
   "execution_count": 85,
   "metadata": {},
   "outputs": [
    {
     "name": "stdout",
     "output_type": "stream",
     "text": [
      "{'linear': {'C = 1': array([[25,  1,  0],\n",
      "       [ 1, 18,  7],\n",
      "       [ 1,  6, 27]]), 'C = 0.1': array([[23,  3,  0],\n",
      "       [ 0, 20,  6],\n",
      "       [ 1,  5, 28]]), 'C = 0.01': array([[20,  5,  1],\n",
      "       [ 1,  0, 25],\n",
      "       [ 1,  0, 33]])}, 'poly': {'C = 1': array([[21,  5,  0],\n",
      "       [ 0, 26,  0],\n",
      "       [ 1, 11, 22]]), 'C = 0.1': array([[17,  9,  0],\n",
      "       [ 0, 26,  0],\n",
      "       [ 1, 17, 16]]), 'C = 0.01': array([[12,  0, 14],\n",
      "       [ 0,  0, 26],\n",
      "       [ 0,  0, 34]])}}\n",
      "{'linear': {'C = 1': 0.81395348837209303, 'C = 0.1': 0.82558139534883723, 'C = 0.01': 0.61627906976744184}, 'poly': {'C = 1': 0.80232558139534882, 'C = 0.1': 0.68604651162790697, 'C = 0.01': 0.53488372093023251}}\n"
     ]
    }
   ],
   "source": [
    "print(cm_svm)\n",
    "print(accuracies_svm)"
   ]
  },
  {
   "cell_type": "code",
   "execution_count": 86,
   "metadata": {},
   "outputs": [],
   "source": [
    "# k-nearest_neighbors\n",
    "\n",
    "nbs = range(1, 10)\n",
    "accuracies_knn = {}\n",
    "cm_knn = {}\n",
    "for x in nbs:\n",
    "    knn = KNeighborsClassifier(n_neighbors = x).fit(X_train, y_train)\n",
    "    accuracies_knn['n = {}'.format(x)] = knn.score(X_test, y_test)\n",
    "    knn_predictions = knn.predict(X_test) \n",
    "    cm_knn['n = {}'.format(x)] = confusion_matrix(y_test, knn_predictions)"
   ]
  },
  {
   "cell_type": "code",
   "execution_count": 87,
   "metadata": {},
   "outputs": [
    {
     "name": "stdout",
     "output_type": "stream",
     "text": [
      "{'n = 1': array([[25,  1,  0],\n",
      "       [ 1, 19,  6],\n",
      "       [ 1,  6, 27]]), 'n = 2': array([[26,  0,  0],\n",
      "       [ 3, 19,  4],\n",
      "       [ 1, 10, 23]]), 'n = 3': array([[25,  1,  0],\n",
      "       [ 2, 19,  5],\n",
      "       [ 1,  5, 28]]), 'n = 4': array([[26,  0,  0],\n",
      "       [ 2, 19,  5],\n",
      "       [ 1,  8, 25]]), 'n = 5': array([[26,  0,  0],\n",
      "       [ 2, 19,  5],\n",
      "       [ 1,  5, 28]]), 'n = 6': array([[26,  0,  0],\n",
      "       [ 2, 20,  4],\n",
      "       [ 1,  7, 26]]), 'n = 7': array([[25,  1,  0],\n",
      "       [ 3, 16,  7],\n",
      "       [ 1,  4, 29]]), 'n = 8': array([[26,  0,  0],\n",
      "       [ 3, 18,  5],\n",
      "       [ 1,  5, 28]]), 'n = 9': array([[25,  1,  0],\n",
      "       [ 3, 16,  7],\n",
      "       [ 1,  4, 29]])}\n",
      "{'n = 1': 0.82558139534883723, 'n = 2': 0.79069767441860461, 'n = 3': 0.83720930232558144, 'n = 4': 0.81395348837209303, 'n = 5': 0.84883720930232553, 'n = 6': 0.83720930232558144, 'n = 7': 0.81395348837209303, 'n = 8': 0.83720930232558144, 'n = 9': 0.81395348837209303}\n"
     ]
    }
   ],
   "source": [
    "print(cm)\n",
    "print(accuracies)"
   ]
  },
  {
   "cell_type": "code",
   "execution_count": 89,
   "metadata": {
    "collapsed": true
   },
   "outputs": [],
   "source": [
    "# Naive Bayes classifier\n",
    "\n",
    "gnb = GaussianNB().fit(X_train, y_train)\n",
    "gnb_pred = gnb.predict(X_test)\n",
    "accuracy_nb = gnb.score(X_test, y_test)\n",
    "cm_nb = confusion_matrix(y_test, gnb_pred)"
   ]
  },
  {
   "cell_type": "code",
   "execution_count": 90,
   "metadata": {},
   "outputs": [
    {
     "name": "stdout",
     "output_type": "stream",
     "text": [
      "0.813953488372\n",
      "[[22  4  0]\n",
      " [ 2 20  4]\n",
      " [ 1  5 28]]\n"
     ]
    }
   ],
   "source": [
    "print(accuracy_nb)\n",
    "print(cm_nb)"
   ]
  },
  {
   "cell_type": "code",
   "execution_count": null,
   "metadata": {
    "collapsed": true
   },
   "outputs": [],
   "source": []
  }
 ],
 "metadata": {
  "kernelspec": {
   "display_name": "Python 2",
   "language": "python",
   "name": "python2"
  },
  "language_info": {
   "codemirror_mode": {
    "name": "ipython",
    "version": 2
   },
   "file_extension": ".py",
   "mimetype": "text/x-python",
   "name": "python",
   "nbconvert_exporter": "python",
   "pygments_lexer": "ipython2",
   "version": "2.7.12"
  }
 },
 "nbformat": 4,
 "nbformat_minor": 2
}
