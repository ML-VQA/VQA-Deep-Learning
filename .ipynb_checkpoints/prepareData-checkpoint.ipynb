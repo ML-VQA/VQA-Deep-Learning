{
 "cells": [
  {
   "cell_type": "code",
   "execution_count": 19,
   "metadata": {},
   "outputs": [],
   "source": [
    "import os\n",
    "import cv2\n",
    "import glob\n",
    "import random\n",
    "import numpy as np"
   ]
  },
  {
   "cell_type": "code",
   "execution_count": 3,
   "metadata": {},
   "outputs": [],
   "source": [
    "videos = glob.glob('../dataset/first-set/*.mp4')\n",
    "mos = np.loadtxt('../dataset/first-set/mos.txt')"
   ]
  },
  {
   "cell_type": "code",
   "execution_count": 31,
   "metadata": {},
   "outputs": [],
   "source": [
    "def scaleDownVideos(videos, path):\n",
    "    for video in videos:\n",
    "        os.system('ffmpeg -i '+video+' -qp 1 -vf scale=120:68 '+path+'/'+video.split('/')[-1])\n",
    "\n",
    "def extractImages(videos, path):\n",
    "    for video in videos:\n",
    "        os.system('ffmpeg -i '+video+' -vf fps=10 '+path+'/'+video.split('/')[-1][:-4]+'_%d.png')"
   ]
  },
  {
   "cell_type": "code",
   "execution_count": 32,
   "metadata": {},
   "outputs": [],
   "source": [
    "#scaleDownVideos(videos, '../dataset/first-set/images')\n",
    "videos = glob.glob('../dataset/first-set/images/*.mp4')\n",
    "extractImages(videos, '../dataset/first-set/images')"
   ]
  },
  {
   "cell_type": "code",
   "execution_count": 43,
   "metadata": {},
   "outputs": [],
   "source": [
    "def makeImagesNumpy(videos, mos, path):\n",
    "    for video in videos:\n",
    "        images = glob.glob(path+'/'+video.split('/')[-1][:-4]+'_*.png')\n",
    "        images = images[:200]\n",
    "        frames = []\n",
    "        for image in images:\n",
    "            image = cv2.imread(image)\n",
    "            image = np.array(image)\n",
    "            frames.append(image)\n",
    "        frames = np.array(frames)\n",
    "        np.save('../dataset/first-set/numpys/'+video.split('/')[-1][:-4]+'.npy', frames)\n",
    "        mosIndex = int(video.split('/')[-1][:-4].split('_')[1])\n",
    "        mosNumpy = np.full(200, mos[mosIndex-1])\n",
    "        np.save('../dataset/first-set/numpys/'+video.split('/')[-1][:-4]+'_mos.npy', mosNumpy)\n",
    "makeImagesNumpy(videos, mos, '../dataset/first-set/images')"
   ]
  },
  {
   "cell_type": "code",
   "execution_count": null,
   "metadata": {},
   "outputs": [],
   "source": []
  }
 ],
 "metadata": {
  "kernelspec": {
   "display_name": "Python 3",
   "language": "python",
   "name": "python3"
  },
  "language_info": {
   "codemirror_mode": {
    "name": "ipython",
    "version": 3
   },
   "file_extension": ".py",
   "mimetype": "text/x-python",
   "name": "python",
   "nbconvert_exporter": "python",
   "pygments_lexer": "ipython3",
   "version": "3.5.2"
  }
 },
 "nbformat": 4,
 "nbformat_minor": 2
}
