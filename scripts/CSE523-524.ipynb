{
 "cells": [
  {
   "cell_type": "code",
   "execution_count": 23,
   "metadata": {},
   "outputs": [],
   "source": [
    "import pandas as pd\n",
    "import numpy as np\n",
    "import matplotlib.pyplot as plt\n",
    "import sklearn as sk\n",
    "from sklearn import linear_model\n",
    "from sklearn.preprocessing import label_binarize\n",
    "from sklearn.model_selection import train_test_split, KFold, GridSearchCV\n",
    "from sklearn.multiclass import OneVsRestClassifier as ovr\n",
    "from sklearn.metrics import confusion_matrix, accuracy_score, roc_curve, auc\n",
    "from sklearn.ensemble import RandomForestClassifier\n",
    "from sklearn.svm import SVC\n",
    "from sklearn.neighbors import KNeighborsClassifier\n",
    "from sklearn.naive_bayes import GaussianNB"
   ]
  },
  {
   "cell_type": "code",
   "execution_count": 24,
   "metadata": {},
   "outputs": [],
   "source": [
    "df = pd.read_table('/home/mallesh/HPE-QoE-Labels/bitbucket/video-qoe-labeling/data.txt', delim_whitespace=True, dtype = {'BitRate': np.float64, 'FreezeRatio': np.float64, 'Quality': np.int32})"
   ]
  },
  {
   "cell_type": "code",
   "execution_count": 25,
   "metadata": {},
   "outputs": [],
   "source": [
    "df['BitRate'] = df['BitRate']/100"
   ]
  },
  {
   "cell_type": "code",
   "execution_count": 26,
   "metadata": {},
   "outputs": [
    {
     "data": {
      "image/png": "[encoded data removed]",
      "text/plain": [
       "<matplotlib.figure.Figure at 0x7f3a989910d0>"
      ]
     },
     "metadata": {},
     "output_type": "display_data"
    }
   ],
   "source": [
    "plt.hist(df['BitRate'], bins = [0.05*x for x in range(14)],facecolor='blue', edgecolor = 'black')\n",
    "plt.xlabel('Bit rate')\n",
    "plt.ylabel('Count')\n",
    "plt.show()"
   ]
  },
  {
   "cell_type": "code",
   "execution_count": 27,
   "metadata": {},
   "outputs": [
    {
     "data": {
      "image/png": "[encoded data removed]",
      "text/plain": [
       "<matplotlib.figure.Figure at 0x7f3a98b37e10>"
      ]
     },
     "metadata": {},
     "output_type": "display_data"
    }
   ],
   "source": [
    "plt.hist(df['FreezeRatio'], bins = [0.05*x for x in range(21)],facecolor='blue', edgecolor = 'black')\n",
    "plt.xlabel('Freeze ratio')\n",
    "plt.ylabel('Count')\n",
    "plt.show()"
   ]
  },
  {
   "cell_type": "code",
   "execution_count": 28,
   "metadata": {},
   "outputs": [],
   "source": [
    "# get (X, y) and set fold\n",
    "X, y = np.array(df[['BitRate', 'FreezeRatio']]), np.array(df['Quality'])\n",
    "accuracies = {}\n",
    "confusion = {}\n",
    "fold = 5"
   ]
  },
  {
   "cell_type": "code",
   "execution_count": 29,
   "metadata": {},
   "outputs": [],
   "source": [
    "# function for performing k-fold cross validation \n",
    "def k_Fold_CV(classifier, n):\n",
    "    accuracies = []\n",
    "    confusion = []\n",
    "    kf = KFold(n_splits = n)\n",
    "    for train, test in kf.split(X):\n",
    "        pred = classifier.fit(X[train], y[train]).predict(X[test])\n",
    "        accuracies.append(classifier.score(X[test], y[test]))\n",
    "        confusion.append(confusion_matrix(y[test], pred))\n",
    "    return (accuracies, confusion)"
   ]
  },
  {
   "cell_type": "code",
   "execution_count": 30,
   "metadata": {},
   "outputs": [
    {
     "name": "stdout",
     "output_type": "stream",
     "text": [
      "('Best estimator: ', RandomForestClassifier(bootstrap=True, class_weight=None, criterion='gini',\n",
      "            max_depth=None, max_features='auto', max_leaf_nodes=None,\n",
      "            min_impurity_split=1e-07, min_samples_leaf=1,\n",
      "            min_samples_split=2, min_weight_fraction_leaf=0.0,\n",
      "            n_estimators=13, n_jobs=1, oob_score=False, random_state=1,\n",
      "            verbose=0, warm_start=False))\n",
      "Accuracies: 0.774725274725\n"
     ]
    }
   ],
   "source": [
    "# random forest\n",
    "params = {'n_estimators': range(1, 21), 'criterion': ('gini', 'entropy')}\n",
    "clf = GridSearchCV(RandomForestClassifier(random_state = 1), params)\n",
    "clf.fit(X, y)\n",
    "print(\"Best estimator: \", clf.best_estimator_)\n",
    "print(\"Accuracies: {}\".format(clf.best_score_))"
   ]
  },
  {
   "cell_type": "code",
   "execution_count": 31,
   "metadata": {},
   "outputs": [],
   "source": [
    "# Grid search found the best estimator to be n_estimators = 13 using gini index \n",
    "classifier = RandomForestClassifier(n_estimators = 13, criterion = 'gini', random_state = 1)\n",
    "accuracies['random_forest'], confusion['random_forest'] = k_Fold_CV(classifier, fold)"
   ]
  },
  {
   "cell_type": "code",
   "execution_count": 32,
   "metadata": {},
   "outputs": [
    {
     "name": "stdout",
     "output_type": "stream",
     "text": [
      "('Best estimator: ', KNeighborsClassifier(algorithm='auto', leaf_size=30, metric='minkowski',\n",
      "           metric_params=None, n_jobs=1, n_neighbors=9, p=2,\n",
      "           weights='uniform'))\n",
      "Accuracies: 0.813186813187\n"
     ]
    }
   ],
   "source": [
    "# k nearest neighbors\n",
    "params = {'n_neighbors':range(1, 11)}\n",
    "clf = GridSearchCV(KNeighborsClassifier(), params)\n",
    "clf.fit(X, y)\n",
    "print(\"Best estimator: \", clf.best_estimator_)\n",
    "print(\"Accuracies: {}\".format(clf.best_score_))"
   ]
  },
  {
   "cell_type": "code",
   "execution_count": 33,
   "metadata": {},
   "outputs": [],
   "source": [
    "# best estimator is n_neighbors = 9 found by grid search\n",
    "accuracies['nearest_neighbor'], confusion['nearest_neighbor'] = k_Fold_CV(KNeighborsClassifier(n_neighbors = 9), fold)"
   ]
  },
  {
   "cell_type": "code",
   "execution_count": 34,
   "metadata": {},
   "outputs": [],
   "source": [
    "# Naive Bayes classifier\n",
    "accuracies['naive_bayers'], confusion['naive_bayers'] = k_Fold_CV(GaussianNB(), fold)"
   ]
  },
  {
   "cell_type": "code",
   "execution_count": 35,
   "metadata": {},
   "outputs": [
    {
     "name": "stdout",
     "output_type": "stream",
     "text": [
      "(SVC(C=10, cache_size=200, class_weight=None, coef0=0.0,\n",
      "  decision_function_shape=None, degree=3, gamma='auto', kernel='rbf',\n",
      "  max_iter=-1, probability=False, random_state=12345, shrinking=True,\n",
      "  tol=0.001, verbose=False), 0.76373626373626369)\n"
     ]
    }
   ],
   "source": [
    "# SVM classfier\n",
    "params = {'kernel':('poly', 'rbf', 'sigmoid'), 'C':[0.1, 1, 10]}\n",
    "clf = GridSearchCV(SVC(random_state = 12345), params)\n",
    "clf.fit(X, y)\n",
    "print(clf.best_estimator_, clf.best_score_)"
   ]
  },
  {
   "cell_type": "code",
   "execution_count": 36,
   "metadata": {},
   "outputs": [],
   "source": [
    "# best estimator is C = 10, kernel = 'rbf' by grid search\n",
    "accuracies['svm'], confusion['svm'] = k_Fold_CV(SVC(C = 10, kernel = 'rbf'), fold)"
   ]
  },
  {
   "cell_type": "code",
   "execution_count": 37,
   "metadata": {},
   "outputs": [
    {
     "name": "stdout",
     "output_type": "stream",
     "text": [
      "naive_bayers\n",
      "('5_fold accuracies: ', array([ 0.877,  0.753,  0.849,  0.808,  0.736]))\n",
      "Average accuracy: 0.805\n",
      "#################################\n",
      "nearest_neighbor\n",
      "('5_fold accuracies: ', array([ 0.836,  0.849,  0.918,  0.753,  0.736]))\n",
      "Average accuracy: 0.818\n",
      "#################################\n",
      "random_forest\n",
      "('5_fold accuracies: ', array([ 0.808,  0.849,  0.918,  0.74 ,  0.722]))\n",
      "Average accuracy: 0.807\n",
      "#################################\n",
      "svm\n",
      "('5_fold accuracies: ', array([ 0.863,  0.795,  0.877,  0.767,  0.736]))\n",
      "Average accuracy: 0.807\n",
      "#################################\n"
     ]
    }
   ],
   "source": [
    "for k, v in accuracies.items():\n",
    "    print(k)\n",
    "    print(\"{}_fold accuracies: \".format(fold), np.around(v, decimals = 3))\n",
    "    print(\"Average accuracy: {0:0.3f}\".format(np.mean(v)))\n",
    "    print(\"#################################\")"
   ]
  },
  {
   "cell_type": "code",
   "execution_count": 38,
   "metadata": {},
   "outputs": [],
   "source": [
    "# function for computing the ROC curves in k-fold CV\n",
    "\n",
    "def k_Fold_roc(classifier, n, labels):\n",
    "    y_bin = label_binarize(y, classes = labels)\n",
    "    aucs = []\n",
    "    kf = KFold(n_splits = n)\n",
    "    for train, test in kf.split(X):\n",
    "        y_score = ovr(classifier).fit(X[train], y_bin[train]).predict_proba(X[test])\n",
    "        fpr = {}\n",
    "        tpr = {}\n",
    "        roc_auc = {}\n",
    "        for i in range(len(labels)):\n",
    "            fpr[i], tpr[i], _ = roc_curve(y_bin[test][:, i], y_score[:, i])\n",
    "            roc_auc[i] = auc(fpr[i], tpr[i])\n",
    "        aucs.append(roc_auc)\n",
    "    return aucs "
   ]
  },
  {
   "cell_type": "code",
   "execution_count": 39,
   "metadata": {},
   "outputs": [],
   "source": [
    "fold = 10\n",
    "labels = [0, 1, 2]\n",
    "aucs = {}\n",
    "classifiers = {'random_forest': RandomForestClassifier(n_estimators = 13, random_state = 1), \n",
    "               'nearest_neighbor': KNeighborsClassifier(n_neighbors = 9),\n",
    "               'naive_bayers': GaussianNB(),\n",
    "               'svm': SVC(C = 10, kernel = 'rbf', probability = True)}\n",
    "for k, v in classifiers.items():\n",
    "    aucs[k] = k_Fold_roc(v, fold, labels)"
   ]
  },
  {
   "cell_type": "code",
   "execution_count": 40,
   "metadata": {},
   "outputs": [
    {
     "name": "stdout",
     "output_type": "stream",
     "text": [
      "naive_bayers\n",
      "10_fold AUCs: \n",
      "{0: 1.0, 1: 0.4391025641025641, 2: 0.93939393939393934}\n",
      "{0: 0.98518518518518527, 1: 0.41346153846153844, 2: 0.97826086956521741}\n",
      "{0: 1.0, 1: 0.51333333333333331, 2: 0.97756410256410253}\n",
      "{0: 0.99300699300699302, 1: 0.47826086956521741, 2: 0.97666666666666668}\n",
      "{0: 0.98996655518394649, 1: 0.53511705685618738, 2: 0.99230769230769234}\n",
      "{0: 1.0, 1: 0.51666666666666672, 2: 0.98730158730158735}\n",
      "{0: 1.0, 1: 0.43209876543209869, 2: 0.94805194805194803}\n",
      "{0: 1.0, 1: 0.61269841269841274, 2: 0.89230769230769236}\n",
      "{0: 1.0, 1: 0.36728395061728397, 2: 0.81168831168831168}\n",
      "{0: 1.0, 1: 0.6205357142857143, 2: 0.87616099071207432}\n",
      "#################################\n",
      "nearest_neighbor\n",
      "10_fold AUCs: \n",
      "{0: 1.0, 1: 0.87980769230769229, 2: 0.93939393939393934}\n",
      "{0: 0.97592592592592586, 1: 0.90224358974358976, 2: 0.96894409937888204}\n",
      "{0: 0.9966666666666667, 1: 0.90833333333333333, 2: 0.95192307692307687}\n",
      "{0: 0.99125874125874125, 1: 0.91304347826086962, 2: 0.97166666666666668}\n",
      "{0: 0.95819397993311051, 1: 0.92140468227424743, 2: 0.96923076923076934}\n",
      "{0: 1.0, 1: 1.0, 2: 0.96031746031746035}\n",
      "{0: 0.95652173913043481, 1: 0.83127572016460904, 2: 0.91720779220779225}\n",
      "{0: 1.0, 1: 0.92380952380952386, 2: 0.90769230769230769}\n",
      "{0: 1.0, 1: 0.79629629629629628, 2: 0.80519480519480524}\n",
      "{0: 1.0, 1: 0.84151785714285721, 2: 0.89009287925696579}\n",
      "#################################\n",
      "random_forest\n",
      "10_fold AUCs: \n",
      "{0: 1.0, 1: 0.84294871794871806, 2: 0.90454545454545454}\n",
      "{0: 0.97407407407407409, 1: 0.86858974358974361, 2: 0.90372670807453415}\n",
      "{0: 1.0, 1: 0.91499999999999992, 2: 0.90384615384615385}\n",
      "{0: 0.96678321678321688, 1: 0.81987577639751552, 2: 0.93333333333333335}\n",
      "{0: 0.95652173913043481, 1: 0.89966555183946495, 2: 0.97692307692307701}\n",
      "{0: 0.97301587301587311, 1: 1.0, 2: 0.96190476190476193}\n",
      "{0: 0.9682274247491639, 1: 0.84362139917695478, 2: 0.88311688311688308}\n",
      "{0: 1.0, 1: 0.84603174603174613, 2: 0.81923076923076921}\n",
      "{0: 1.0, 1: 0.76851851851851849, 2: 0.80519480519480524}\n",
      "{0: 1.0, 1: 0.8616071428571429, 2: 0.90712074303405577}\n",
      "#################################\n",
      "svm\n",
      "10_fold AUCs: \n",
      "{0: 1.0, 1: 0.62820512820512819, 2: 0.93030303030303019}\n",
      "{0: 0.98888888888888893, 1: 0.5608974358974359, 2: 0.96894409937888204}\n",
      "{0: 1.0, 1: 0.62999999999999989, 2: 0.9391025641025641}\n",
      "{0: 0.98951048951048959, 1: 0.59627329192546585, 2: 0.96999999999999997}\n",
      "{0: 0.98996655518394649, 1: 0.56187290969899673, 2: 0.97692307692307689}\n",
      "{0: 1.0, 1: 0.78333333333333333, 2: 0.98412698412698407}\n",
      "{0: 0.96321070234113715, 1: 0.83950617283950613, 2: 0.90259740259740262}\n",
      "{0: 0.99636363636363634, 1: 0.86349206349206353, 2: 0.7961538461538461}\n",
      "{0: 1.0, 1: 0.8456790123456791, 2: 0.67532467532467533}\n",
      "{0: 1.0, 1: 0.77678571428571441, 2: 0.84520123839009298}\n",
      "#################################\n"
     ]
    }
   ],
   "source": [
    "for k, v in aucs.items():\n",
    "    print(k)\n",
    "    print(\"{}_fold AUCs: \".format(fold))\n",
    "    for x in v:\n",
    "        print(x)\n",
    "    print(\"#################################\")"
   ]
  },
  {
   "cell_type": "code",
   "execution_count": null,
   "metadata": {
    "collapsed": true
   },
   "outputs": [],
   "source": []
  }
 ],
 "metadata": {
  "kernelspec": {
   "display_name": "Python 2",
   "language": "python",
   "name": "python2"
  },
  "language_info": {
   "codemirror_mode": {
    "name": "ipython",
    "version": 2
   },
   "file_extension": ".py",
   "mimetype": "text/x-python",
   "name": "python",
   "nbconvert_exporter": "python",
   "pygments_lexer": "ipython2",
   "version": "2.7.12"
  }
 },
 "nbformat": 4,
 "nbformat_minor": 2
}
