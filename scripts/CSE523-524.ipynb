{
 "cells": [
  {
   "cell_type": "code",
   "execution_count": 44,
   "metadata": {
    "collapsed": true
   },
   "outputs": [],
   "source": [
    "import pandas as pd\n",
    "import numpy as np\n",
    "import matplotlib.pyplot as plt\n",
    "import sklearn as sk\n",
    "from sklearn import linear_model\n",
    "from sklearn import preprocessing\n",
    "from sklearn.metrics import mean_squared_error, r2_score\n",
    "from sklearn.model_selection import train_test_split, KFold, GridSearchCV\n",
    "from sklearn.metrics import confusion_matrix, accuracy_score\n",
    "from sklearn.tree import DecisionTreeClassifier\n",
    "from sklearn.svm import SVC\n",
    "from sklearn.neighbors import KNeighborsClassifier\n",
    "from sklearn.naive_bayes import GaussianNB"
   ]
  },
  {
   "cell_type": "code",
   "execution_count": 2,
   "metadata": {
    "collapsed": true
   },
   "outputs": [],
   "source": [
    "df = pd.read_table('~/Documents/video-qoe-labeling/data.txt', delim_whitespace=True, dtype = {'BitRate': np.float64, 'FreezeRatio': np.float64, 'Quality': np.int32})"
   ]
  },
  {
   "cell_type": "code",
   "execution_count": 5,
   "metadata": {
    "collapsed": true
   },
   "outputs": [],
   "source": [
    "df['BitRate'] = df['BitRate']/100"
   ]
  },
  {
   "cell_type": "code",
   "execution_count": 7,
   "metadata": {},
   "outputs": [
    {
     "data": {
      "image/png": "[encoded data removed]",
      "text/plain": [
       "<matplotlib.figure.Figure at 0x7ff4e600eb38>"
      ]
     },
     "metadata": {},
     "output_type": "display_data"
    }
   ],
   "source": [
    "plt.hist(df['BitRate'], bins = [0.05*x for x in range(14)],facecolor='blue', edgecolor = 'black')\n",
    "plt.xlabel('Bit rate')\n",
    "plt.ylabel('Count')\n",
    "plt.show()"
   ]
  },
  {
   "cell_type": "code",
   "execution_count": 8,
   "metadata": {},
   "outputs": [
    {
     "data": {
      "image/png": "[encoded data removed]",
      "text/plain": [
       "<matplotlib.figure.Figure at 0x7ff4e5f14390>"
      ]
     },
     "metadata": {},
     "output_type": "display_data"
    }
   ],
   "source": [
    "plt.hist(df['FreezeRatio'], bins = [0.05*x for x in range(21)],facecolor='blue', edgecolor = 'black')\n",
    "plt.xlabel('Freeze ratio')\n",
    "plt.ylabel('Count')\n",
    "plt.show()"
   ]
  },
  {
   "cell_type": "code",
   "execution_count": 90,
   "metadata": {
    "collapsed": true
   },
   "outputs": [],
   "source": [
    "# get X and y\n",
    "X, y = np.array(df[['BitRate', 'FreezeRatio']]), np.array(df['Quality'])\n",
    "accuracies = {}\n",
    "confusion = {}"
   ]
  },
  {
   "cell_type": "code",
   "execution_count": 91,
   "metadata": {
    "collapsed": true
   },
   "outputs": [],
   "source": [
    "# function for performing k-fold cross validation \n",
    "def k_Fold_CV(classifier, n):\n",
    "    accuracies = []\n",
    "    confusion = []\n",
    "    kf = KFold(n_splits = n)\n",
    "    for train, test in kf.split(X):\n",
    "        predictions = classifier.fit(X[train], y[train]).predict(X[test])\n",
    "        accuracies.append(classifier.score(X[test], y[test]))\n",
    "        confusion.append(confusion_matrix(y[test], predictions))\n",
    "    return (accuracies, confusion)"
   ]
  },
  {
   "cell_type": "code",
   "execution_count": 92,
   "metadata": {},
   "outputs": [],
   "source": [
    "# decision tree\n",
    "accuracies['decision_tree'], confusion['decision_tree'] = k_Fold_CV(DecisionTreeClassifier(max_depth = depth), 10)"
   ]
  },
  {
   "cell_type": "code",
   "execution_count": 93,
   "metadata": {},
   "outputs": [
    {
     "data": {
      "text/plain": [
       "KNeighborsClassifier(algorithm='auto', leaf_size=30, metric='minkowski',\n",
       "           metric_params=None, n_jobs=1, n_neighbors=9, p=2,\n",
       "           weights='uniform')"
      ]
     },
     "execution_count": 93,
     "metadata": {},
     "output_type": "execute_result"
    }
   ],
   "source": [
    "# k nearest neighbors\n",
    "params = {'n_neighbors':range(1, 11)}\n",
    "clf = GridSearchCV(KNeighborsClassifier(), params)\n",
    "clf.fit(X, y)\n",
    "clf.best_estimator_"
   ]
  },
  {
   "cell_type": "code",
   "execution_count": 94,
   "metadata": {
    "collapsed": true
   },
   "outputs": [],
   "source": [
    "# best estimator is n_neighbors = 9 found by grid search\n",
    "accuracies['nearest_neighbor'], confusion['nearest_neighbor'] = k_Fold_CV(KNeighborsClassifier(n_neighbors = n), 10)"
   ]
  },
  {
   "cell_type": "code",
   "execution_count": 95,
   "metadata": {
    "collapsed": true
   },
   "outputs": [],
   "source": [
    "# Naive Bayes classifier\n",
    "accuracies['naive_bayers'], confusion['naive_bayers'] = k_Fold_CV(GaussianNB(), 10)"
   ]
  },
  {
   "cell_type": "code",
   "execution_count": 96,
   "metadata": {},
   "outputs": [
    {
     "data": {
      "text/plain": [
       "SVC(C=10, cache_size=200, class_weight=None, coef0=0.0,\n",
       "  decision_function_shape='ovr', degree=3, gamma='auto', kernel='rbf',\n",
       "  max_iter=-1, probability=False, random_state=None, shrinking=True,\n",
       "  tol=0.001, verbose=False)"
      ]
     },
     "execution_count": 96,
     "metadata": {},
     "output_type": "execute_result"
    }
   ],
   "source": [
    "# SVM classfier\n",
    "params = {'kernel':('poly', 'rbf', 'sigmoid'), 'C':[0.1, 1, 10]}\n",
    "clf = GridSearchCV(SVC(), params)\n",
    "clf.fit(X, y)\n",
    "clf.best_estimator_"
   ]
  },
  {
   "cell_type": "code",
   "execution_count": 97,
   "metadata": {
    "collapsed": true
   },
   "outputs": [],
   "source": [
    "# best estimator is C = 10, kernel = 'rbg' by grid search\n",
    "accuracies['svm'], confusion['svm'] = k_Fold_CV(SVC(C = 10, kernel = 'rbf'), 10)"
   ]
  },
  {
   "cell_type": "code",
   "execution_count": 98,
   "metadata": {},
   "outputs": [
    {
     "name": "stdout",
     "output_type": "stream",
     "text": [
      "decision_tree\n",
      "[0.91891891891891897, 0.86486486486486491, 0.86486486486486491, 0.83783783783783783, 0.91666666666666663, 0.83333333333333337, 0.58333333333333337, 0.44444444444444442, 0.5, 0.63888888888888884]\n",
      "Average accuracy: 0.7403153153153152\n",
      "nearest_neighbor\n",
      "[0.81081081081081086, 0.83783783783783783, 0.7567567567567568, 0.83783783783783783, 0.88888888888888884, 0.97222222222222221, 0.77777777777777779, 0.77777777777777779, 0.63888888888888884, 0.83333333333333337]\n",
      "Average accuracy: 0.8132132132132132\n",
      "naive_bayers\n",
      "[0.94594594594594594, 0.81081081081081086, 0.78378378378378377, 0.72972972972972971, 0.80555555555555558, 0.94444444444444442, 0.80555555555555558, 0.77777777777777779, 0.69444444444444442, 0.75]\n",
      "Average accuracy: 0.8048048048048049\n",
      "svm\n",
      "[0.89189189189189189, 0.86486486486486491, 0.78378378378378377, 0.83783783783783783, 0.86111111111111116, 0.97222222222222221, 0.75, 0.69444444444444442, 0.66666666666666663, 0.86111111111111116]\n",
      "Average accuracy: 0.8183933933933935\n"
     ]
    }
   ],
   "source": [
    "for k, v in accuracies.items():\n",
    "    print(k)\n",
    "    print(v)\n",
    "    print(\"Average accuracy: {}\".format(sum(v)/len(v)))"
   ]
  },
  {
   "cell_type": "code",
   "execution_count": null,
   "metadata": {},
   "outputs": [],
   "source": []
  },
  {
   "cell_type": "code",
   "execution_count": null,
   "metadata": {
    "collapsed": true
   },
   "outputs": [],
   "source": []
  }
 ],
 "metadata": {
  "kernelspec": {
   "display_name": "Python 3",
   "language": "python",
   "name": "python3"
  },
  "language_info": {
   "codemirror_mode": {
    "name": "ipython",
    "version": 3
   },
   "file_extension": ".py",
   "mimetype": "text/x-python",
   "name": "python",
   "nbconvert_exporter": "python",
   "pygments_lexer": "ipython3",
   "version": "3.6.3"
  }
 },
 "nbformat": 4,
 "nbformat_minor": 2
}
